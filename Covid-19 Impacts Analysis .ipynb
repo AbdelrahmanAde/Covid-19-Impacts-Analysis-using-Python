{
 "cells": [
  {
   "cell_type": "code",
   "execution_count": null,
   "id": "23079202",
   "metadata": {
    "_cell_guid": "b1076dfc-b9ad-4769-8c92-a6c4dae69d19",
    "_uuid": "8f2839f25d086af736a60e9eeb907d3b93b6e0e5",
    "execution": {
     "iopub.execute_input": "2024-04-12T06:17:53.228000Z",
     "iopub.status.busy": "2024-04-12T06:17:53.227276Z",
     "iopub.status.idle": "2024-04-12T06:17:54.136830Z",
     "shell.execute_reply": "2024-04-12T06:17:54.135534Z"
    },
    "papermill": {
     "duration": 0.929252,
     "end_time": "2024-04-12T06:17:54.139815",
     "exception": false,
     "start_time": "2024-04-12T06:17:53.210563",
     "status": "completed"
    },
    "tags": []
   },
   "outputs": [
    {
     "ename": "",
     "evalue": "",
     "output_type": "error",
     "traceback": [
      "\u001b[1;31mRunning cells with 'Python 3.7.6' requires the ipykernel package.\n",
      "\u001b[1;31mRun the following command to install 'ipykernel' into the Python environment. \n",
      "\u001b[1;31mCommand: 'c:/Users/as7aba/AppData/Local/Programs/Python/Python37/python.exe -m pip install ipykernel -U --user --force-reinstall'"
     ]
    }
   ],
   "source": [
    "import pandas as pd\n",
    "import plotly.express as px\n",
    "import plotly.graph_objects as go\n",
    "\n",
    "data = pd.read_csv(\"transformed_data.csv\")\n",
    "data2 = pd.read_csv(\"raw_data.csv\")\n",
    "print(data)"
   ]
  },
  {
   "cell_type": "markdown",
   "id": "644e7c3d",
   "metadata": {
    "papermill": {
     "duration": 0.012319,
     "end_time": "2024-04-12T06:17:54.165213",
     "exception": false,
     "start_time": "2024-04-12T06:17:54.152894",
     "status": "completed"
    },
    "tags": []
   },
   "source": [
    "# Covid-19 Impacts Analysis using Python"
   ]
  },
  {
   "cell_type": "code",
   "execution_count": 2,
   "id": "7d5512c2",
   "metadata": {
    "execution": {
     "iopub.execute_input": "2024-04-12T06:17:54.193104Z",
     "iopub.status.busy": "2024-04-12T06:17:54.192544Z",
     "iopub.status.idle": "2024-04-12T06:17:56.761634Z",
     "shell.execute_reply": "2024-04-12T06:17:56.760007Z"
    },
    "papermill": {
     "duration": 2.586697,
     "end_time": "2024-04-12T06:17:56.764935",
     "exception": false,
     "start_time": "2024-04-12T06:17:54.178238",
     "status": "completed"
    },
    "tags": []
   },
   "outputs": [],
   "source": [
    "print(data.head())"
   ]
  },
  {
   "cell_type": "code",
   "execution_count": 3,
   "id": "7659e32a",
   "metadata": {
    "execution": {
     "iopub.execute_input": "2024-04-12T06:17:56.794290Z",
     "iopub.status.busy": "2024-04-12T06:17:56.793359Z",
     "iopub.status.idle": "2024-04-12T06:17:56.812181Z",
     "shell.execute_reply": "2024-04-12T06:17:56.811020Z"
    },
    "papermill": {
     "duration": 0.036867,
     "end_time": "2024-04-12T06:17:56.814736",
     "exception": false,
     "start_time": "2024-04-12T06:17:56.777869",
     "status": "completed"
    },
    "tags": []
   },
   "outputs": [],
   "source": [
    "print(data2.head())"
   ]
  },
  {
   "cell_type": "code",
   "execution_count": 4,
   "id": "ee4b107d",
   "metadata": {
    "execution": {
     "iopub.execute_input": "2024-04-12T06:17:56.842709Z",
     "iopub.status.busy": "2024-04-12T06:17:56.842318Z",
     "iopub.status.idle": "2024-04-12T06:17:56.853710Z",
     "shell.execute_reply": "2024-04-12T06:17:56.852481Z"
    },
    "papermill": {
     "duration": 0.028571,
     "end_time": "2024-04-12T06:17:56.856435",
     "exception": false,
     "start_time": "2024-04-12T06:17:56.827864",
     "status": "completed"
    },
    "tags": []
   },
   "outputs": [
    {
     "name": "stdout",
     "output_type": "stream",
     "text": [
      "         Date  Clicks  Impressions\n",
      "0  2022-10-19    2851        58598\n",
      "1  2022-10-20    2707        57628\n",
      "2  2022-10-21    2246        50135\n",
      "3  2022-10-22    1686        40608\n",
      "4  2022-10-23    1808        41999\n"
     ]
    }
   ],
   "source": [
    "data[\"COUNTRY\"].value_counts()"
   ]
  },
  {
   "cell_type": "code",
   "execution_count": 5,
   "id": "46c71f37",
   "metadata": {
    "execution": {
     "iopub.execute_input": "2024-04-12T06:17:56.884587Z",
     "iopub.status.busy": "2024-04-12T06:17:56.883829Z",
     "iopub.status.idle": "2024-04-12T06:17:56.910271Z",
     "shell.execute_reply": "2024-04-12T06:17:56.908641Z"
    },
    "papermill": {
     "duration": 0.043238,
     "end_time": "2024-04-12T06:17:56.912637",
     "exception": false,
     "start_time": "2024-04-12T06:17:56.869399",
     "status": "completed"
    },
    "tags": []
   },
   "outputs": [
    {
     "name": "stdout",
     "output_type": "stream",
     "text": [
      "<class 'pandas.core.frame.DataFrame'>\n",
      "RangeIndex: 365 entries, 0 to 364\n",
      "Data columns (total 3 columns):\n",
      " #   Column       Non-Null Count  Dtype \n",
      "---  ------       --------------  ----- \n",
      " 0   Date         365 non-null    object\n",
      " 1   Clicks       365 non-null    int64 \n",
      " 2   Impressions  365 non-null    int64 \n",
      "dtypes: int64(2), object(1)\n",
      "memory usage: 8.7+ KB\n",
      "None\n"
     ]
    }
   ],
   "source": [
    "data[\"COUNTRY\"].value_counts().mode()"
   ]
  },
  {
   "cell_type": "code",
   "execution_count": 6,
   "id": "0dc70871",
   "metadata": {
    "execution": {
     "iopub.execute_input": "2024-04-12T06:17:56.940265Z",
     "iopub.status.busy": "2024-04-12T06:17:56.939877Z",
     "iopub.status.idle": "2024-04-12T06:17:56.946509Z",
     "shell.execute_reply": "2024-04-12T06:17:56.945328Z"
    },
    "papermill": {
     "duration": 0.023872,
     "end_time": "2024-04-12T06:17:56.949360",
     "exception": false,
     "start_time": "2024-04-12T06:17:56.925488",
     "status": "completed"
    },
    "tags": []
   },
   "outputs": [
    {
     "name": "stdout",
     "output_type": "stream",
     "text": [
      "Date           0\n",
      "Clicks         0\n",
      "Impressions    0\n",
      "dtype: int64\n"
     ]
    }
   ],
   "source": [
    "# Aggregating the data\n",
    "\n",
    "code = data[\"CODE\"].unique().tolist()\n",
    "country = data[\"COUNTRY\"].unique().tolist()\n",
    "hdi = []\n",
    "tc = []\n",
    "td = []\n",
    "sti = []\n",
    "population = data[\"POP\"].unique().tolist()\n",
    "gdp = []\n",
    "\n",
    "for i in country:\n",
    "    hdi.append((data.loc[data[\"COUNTRY\"] == i, \"HDI\"]).sum()/294)\n",
    "    tc.append((data2.loc[data2[\"location\"] == i, \"total_cases\"]).sum())\n",
    "    td.append((data2.loc[data2[\"location\"] == i, \"total_deaths\"]).sum())\n",
    "    sti.append((data.loc[data[\"COUNTRY\"] == i, \"STI\"]).sum()/294)\n",
    "    population.append((data2.loc[data2[\"location\"] == i, \"population\"]).sum()/294)\n",
    "\n",
    "aggregated_data = pd.DataFrame(list(zip(code, country, hdi, tc, td, sti, population)), \n",
    "                               columns = [\"Country Code\", \"Country\", \"HDI\", \n",
    "                                          \"Total Cases\", \"Total Deaths\", \n",
    "                                          \"Stringency Index\", \"Population\"])\n",
    "print(aggregated_data.head())"
   ]
  },
  {
   "cell_type": "code",
   "execution_count": 7,
   "id": "bd8d1d84",
   "metadata": {
    "execution": {
     "iopub.execute_input": "2024-04-12T06:17:56.976923Z",
     "iopub.status.busy": "2024-04-12T06:17:56.976490Z",
     "iopub.status.idle": "2024-04-12T06:17:56.985071Z",
     "shell.execute_reply": "2024-04-12T06:17:56.984035Z"
    },
    "papermill": {
     "duration": 0.025093,
     "end_time": "2024-04-12T06:17:56.987395",
     "exception": false,
     "start_time": "2024-04-12T06:17:56.962302",
     "status": "completed"
    },
    "tags": []
   },
   "outputs": [
    {
     "data": {
      "text/plain": [
       "0"
      ]
     },
     "execution_count": 7,
     "metadata": {},
     "output_type": "execute_result"
    }
   ],
   "source": [
    "# Sorting Data According to Total Cases\n",
    "\n",
    "data = aggregated_data.sort_values(by=[\"Total Cases\"], ascending=False)\n",
    "print(data.head())"
   ]
  },
  {
   "cell_type": "markdown",
   "id": "e37e8286",
   "metadata": {
    "papermill": {
     "duration": 0.01338,
     "end_time": "2024-04-12T06:17:57.013867",
     "exception": false,
     "start_time": "2024-04-12T06:17:57.000487",
     "status": "completed"
    },
    "tags": []
   },
   "source": [
    "Let’s start by converting the Date column in the DataFrame from a string format to a datetime format and then setting it as the index of the DataFrame:"
   ]
  },
  {
   "cell_type": "code",
   "execution_count": 8,
   "id": "0cd4a32d",
   "metadata": {
    "execution": {
     "iopub.execute_input": "2024-04-12T06:17:57.042309Z",
     "iopub.status.busy": "2024-04-12T06:17:57.041534Z",
     "iopub.status.idle": "2024-04-12T06:17:57.053090Z",
     "shell.execute_reply": "2024-04-12T06:17:57.051759Z"
    },
    "papermill": {
     "duration": 0.028424,
     "end_time": "2024-04-12T06:17:57.055557",
     "exception": false,
     "start_time": "2024-04-12T06:17:57.027133",
     "status": "completed"
    },
    "tags": []
   },
   "outputs": [],
   "source": [
    "# Top 10 Countries with Highest Covid Cases\n",
    "\n",
    "data = data.head(10)\n",
    "print(data)"
   ]
  },
  {
   "cell_type": "code",
   "execution_count": null,
   "id": "52685dce",
   "metadata": {},
   "outputs": [],
   "source": [
    "data[\"GDP Before Covid\"] = [65279.53, 8897.49, 2100.75, \n",
    "                            11497.65, 7027.61, 9946.03, \n",
    "                            29564.74, 6001.40, 6424.98, 42354.41]\n",
    "data[\"GDP During Covid\"] = [63543.58, 6796.84, 1900.71, \n",
    "                            10126.72, 6126.87, 8346.70, \n",
    "                            27057.16, 5090.72, 5332.77, 40284.64]\n",
    "print(data)"
   ]
  },
  {
   "cell_type": "code",
   "execution_count": null,
   "id": "13a93067",
   "metadata": {},
   "outputs": [],
   "source": [
    "figure = px.bar(data, y='Total Cases', x='Country',\n",
    "            title=\"Countries with Highest Covid Cases\")\n",
    "figure.show()"
   ]
  },
  {
   "cell_type": "code",
   "execution_count": null,
   "id": "44917ade",
   "metadata": {},
   "outputs": [],
   "source": [
    "figure = px.bar(data, y='Total Deaths', x='Country',\n",
    "            title=\"Countries with Highest Deaths\")\n",
    "figure.show()"
   ]
  },
  {
   "cell_type": "code",
   "execution_count": null,
   "id": "63a4dd82",
   "metadata": {},
   "outputs": [],
   "source": [
    "fig = go.Figure()\n",
    "fig.add_trace(go.Bar(\n",
    "    x=data[\"Country\"],\n",
    "    y=data[\"Total Cases\"],\n",
    "    name='Total Cases',\n",
    "    marker_color='indianred'\n",
    "))\n",
    "fig.add_trace(go.Bar(\n",
    "    x=data[\"Country\"],\n",
    "    y=data[\"Total Deaths\"],\n",
    "    name='Total Deaths',\n",
    "    marker_color='lightsalmon'\n",
    "))\n",
    "fig.update_layout(barmode='group', xaxis_tickangle=-45)\n",
    "fig.show()"
   ]
  },
  {
   "cell_type": "code",
   "execution_count": null,
   "id": "03c7e995",
   "metadata": {},
   "outputs": [],
   "source": [
    "# Percentage of Total Cases and Deaths\n",
    "cases = data[\"Total Cases\"].sum()\n",
    "deceased = data[\"Total Deaths\"].sum()\n",
    "\n",
    "labels = [\"Total Cases\", \"Total Deaths\"]\n",
    "values = [cases, deceased]\n",
    "\n",
    "fig = px.pie(data, values=values, names=labels, \n",
    "             title='Percentage of Total Cases and Deaths', hole=0.5)\n",
    "fig.show()"
   ]
  },
  {
   "cell_type": "code",
   "execution_count": null,
   "id": "82ffb44b",
   "metadata": {},
   "outputs": [],
   "source": [
    "death_rate = (data[\"Total Deaths\"].sum() / data[\"Total Cases\"].sum()) * 100\n",
    "print(\"Death Rate = \", death_rate)"
   ]
  },
  {
   "cell_type": "code",
   "execution_count": null,
   "id": "742a4852",
   "metadata": {},
   "outputs": [],
   "source": [
    "fig = px.bar(data, x='Country', y='Total Cases',\n",
    "             hover_data=['Population', 'Total Deaths'], \n",
    "             color='Stringency Index', height=400, \n",
    "             title= \"Stringency Index during Covid-19\")\n",
    "fig.show()"
   ]
  },
  {
   "cell_type": "code",
   "execution_count": null,
   "id": "4f6cbd83",
   "metadata": {},
   "outputs": [],
   "source": [
    "fig = px.bar(data, x='Country', y='Total Cases',\n",
    "             hover_data=['Population', 'Total Deaths'], \n",
    "             color='GDP Before Covid', height=400, \n",
    "             title=\"GDP Per Capita Before Covid-19\")\n",
    "fig.show()"
   ]
  },
  {
   "cell_type": "code",
   "execution_count": null,
   "id": "b1a4ed53",
   "metadata": {},
   "outputs": [],
   "source": [
    "fig = px.bar(data, x='Country', y='Total Cases',\n",
    "             hover_data=['Population', 'Total Deaths'], \n",
    "             color='GDP During Covid', height=400, \n",
    "             title=\"GDP Per Capita During Covid-19\")\n",
    "fig.show()"
   ]
  },
  {
   "cell_type": "code",
   "execution_count": null,
   "id": "46df7e11",
   "metadata": {},
   "outputs": [],
   "source": [
    "fig = go.Figure()\n",
    "fig.add_trace(go.Bar(\n",
    "    x=data[\"Country\"],\n",
    "    y=data[\"GDP Before Covid\"],\n",
    "    name='GDP Per Capita Before Covid-19',\n",
    "    marker_color='indianred'\n",
    "))\n",
    "fig.add_trace(go.Bar(\n",
    "    x=data[\"Country\"],\n",
    "    y=data[\"GDP During Covid\"],\n",
    "    name='GDP Per Capita During Covid-19',\n",
    "    marker_color='lightsalmon'\n",
    "))\n",
    "fig.update_layout(barmode='group', xaxis_tickangle=-45)\n",
    "fig.show()"
   ]
  },
  {
   "cell_type": "code",
   "execution_count": null,
   "id": "b02cafad",
   "metadata": {},
   "outputs": [],
   "source": [
    "fig = px.bar(data, x='Country', y='Total Cases',\n",
    "             hover_data=['Population', 'Total Deaths'], \n",
    "             color='HDI', height=400, \n",
    "             title=\"Human Development Index during Covid-19\")\n",
    "fig.show()"
   ]
  }
 ],
 "metadata": {
  "kaggle": {
   "accelerator": "none",
   "dataSources": [
    {
     "datasetId": 4109734,
     "sourceId": 7124443,
     "sourceType": "datasetVersion"
    }
   ],
   "dockerImageVersionId": 30684,
   "isGpuEnabled": false,
   "isInternetEnabled": true,
   "language": "python",
   "sourceType": "notebook"
  },
  "kernelspec": {
   "display_name": "Python 3",
   "language": "python",
   "name": "python3"
  },
  "language_info": {
   "codemirror_mode": {
    "name": "ipython",
    "version": 3
   },
   "file_extension": ".py",
   "mimetype": "text/x-python",
   "name": "python",
   "nbconvert_exporter": "python",
   "pygments_lexer": "ipython3",
   "version": "undefined.undefined.undefined"
  },
  "papermill": {
   "default_parameters": {},
   "duration": 18.568337,
   "end_time": "2024-04-12T06:18:08.732670",
   "environment_variables": {},
   "exception": null,
   "input_path": "__notebook__.ipynb",
   "output_path": "__notebook__.ipynb",
   "parameters": {},
   "start_time": "2024-04-12T06:17:50.164333",
   "version": "2.5.0"
  }
 },
 "nbformat": 4,
 "nbformat_minor": 5
}
